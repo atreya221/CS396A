{
 "cells": [
  {
   "cell_type": "code",
   "execution_count": 2,
   "metadata": {},
   "outputs": [],
   "source": [
    "import random\n",
    "import math\n"
   ]
  },
  {
   "cell_type": "code",
   "execution_count": 3,
   "metadata": {},
   "outputs": [],
   "source": [
    "ip_list = []\n",
    "def ip_gen(i):\n",
    "    list = []\n",
    "    for j in range(i):\n",
    "        n1 = random.randint(0,256)\n",
    "        n2 = random.randint(0,256)\n",
    "        n3 = random.randint(0,256)\n",
    "        n4 = random.randint(0,256)\n",
    "        mask = random.randint(22,32)\n",
    "        ip = f\"{n1}.{n2}.{n3}.{n4}/{mask}\"\n",
    "        list.append(ip)\n",
    "    ip_list.append(list)\n"
   ]
  },
  {
   "cell_type": "code",
   "execution_count": 44,
   "metadata": {},
   "outputs": [],
   "source": [
    "#slope is in the range -1.46 to -1.29\n",
    "# intercept is in the range -1.1 to -0.5 \n",
    "N= 1300\n",
    "m = random.uniform(-1.46,-1.29)\n",
    "c = random.uniform(-1.1,-0.5)\n",
    "\n",
    "X = []\n",
    "def X_gen():\n",
    "    global X\n",
    "    X = []\n",
    "    for i in range(3):\n",
    "        x = random.uniform(1,1.5)\n",
    "        X.append(round(N*math.exp(m*x+c)))\n",
    "    for i in range(4):\n",
    "        x = random.uniform(1.5,2)\n",
    "        X.append(round(N*math.exp(m*x+c)))\n",
    "    for i in range(20):\n",
    "        x= random.uniform(2,3)\n",
    "        X.append(round(N*math.exp(m*x+c)))\n",
    "    for i in range(30):\n",
    "        x= random.uniform(3,4)\n",
    "        X.append(round(N*math.exp(m*x+c)))\n",
    "    for i in range(20):\n",
    "        x= random.uniform(4,4.5)\n",
    "        X.append(round(N*math.exp(m*x+c)))\n",
    "        \n",
    "    "
   ]
  },
  {
   "cell_type": "code",
   "execution_count": 50,
   "metadata": {},
   "outputs": [
    {
     "name": "stdout",
     "output_type": "stream",
     "text": [
      "1084\n"
     ]
    }
   ],
   "source": [
    "def routes():\n",
    "    global ip_list\n",
    "    global X\n",
    "    X_gen()\n",
    "    ip_list = []\n",
    "    for x in X:\n",
    "        ip_gen(x)\n",
    "routes()\n",
    "print(sum(X))"
   ]
  }
 ],
 "metadata": {
  "kernelspec": {
   "display_name": "Python 3.9.7 ('base')",
   "language": "python",
   "name": "python3"
  },
  "language_info": {
   "codemirror_mode": {
    "name": "ipython",
    "version": 3
   },
   "file_extension": ".py",
   "mimetype": "text/x-python",
   "name": "python",
   "nbconvert_exporter": "python",
   "pygments_lexer": "ipython3",
   "version": "3.9.7"
  },
  "orig_nbformat": 4,
  "vscode": {
   "interpreter": {
    "hash": "751f18e0ad82760cb2ed38aa1ea9d1e9446b9197e6bc9ab82ee459290936ced3"
   }
  }
 },
 "nbformat": 4,
 "nbformat_minor": 2
}
